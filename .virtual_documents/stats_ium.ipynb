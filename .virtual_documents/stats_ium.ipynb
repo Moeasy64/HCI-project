import pandas as pd
import matplotlib.pyplot as plt
import numpy as np, scipy.stats as st
import seaborn as sns
from scipy import stats

from collections import Counter
from matplotlib.colors import LinearSegmentedColormap
from matplotlib.patches import Patch
from IPython.display import display, HTML

palette_c = ['#ceddf0', '#4fb600', '#fdd05a', '#128aa3', '#ff5757']

app = ['AliExpress', 'Temu']

df_user = pd.read_csv('./users-time.csv', sep = ';', index_col = 0)
display(df_user)
df = df_user.iloc[:,:6]
df


# creating df with only-time

# get_time_s('2.03-A') -> 123 (secons)
def get_time_s(text):
    times = text.split('-')[0].split('.')
    seconds = int(times[0]) * 60
    seconds += int(times[1])
    return seconds

df_time = df.map(get_time_s)
df_time


# default pandas:
# df_time.boxplot(figsize=(17,10))

fig = plt.figure(figsize = (14, 8))
ax = fig.add_axes([0, 0, 1, 1])
bp = ax.boxplot(df_time)
for box in bp['boxes']:
    # change outline color
    box.set(color='#7570a3', linewidth=3)
    # change fill color
    #box.set(color = 'b')
bp['boxes'][0].set(color = palette_c[1])
bp['boxes'][1].set(color = palette_c[1])
bp['boxes'][2].set(color = palette_c[1])
bp['boxes'][3].set(color = palette_c[2])
bp['boxes'][4].set(color = palette_c[2])
bp['boxes'][5].set(color = palette_c[2])
#plt.grid()
plt.ylabel('Seconds', fontsize = 14)
ax.set_xticklabels(df_time.columns, fontsize = 16)
colors = ['deepskyblue', 'royalblue', 'steelblue', 'deepskyblue', 'royalblue', 'steelblue']
#for xtick, color in zip(ax.get_xticklabels(), colors):
#    xtick.set_color(color)
plt.show()


def task_boxplot(num_task):
    fig = plt.figure(figsize = (6, 5), dpi=100)
    ax = fig.add_axes([0, 0, 1, 1])
    dati = df_time[[f'Task {num_task} {app[0]}', f'Task {num_task} {app[1]}']]
    bp = ax.boxplot(dati, widths = 0.4, showmeans=True)
    for box in bp['boxes']:
        # change outline color
        box.set(color=palette_c[3], linewidth=2.5)
    plt.ylabel('Seconds', fontsize = 14)
    ax.set_xticklabels(app, fontsize = 16)
    plt.title(f'Boxplot tempi esecuzione Task {num_task}')
    plt.show()

    stats = pd.DataFrame(index=app, columns=['Min', 'Max', 'Media', 'Std', 'Mediana', 'Intervallo (0.95)', 'Error'])
    for ele in app:
        stats.loc[ele, 'Min'] = dati[f'Task {num_task} {ele}'].min()
        stats.loc[ele, 'Max'] = dati[f'Task {num_task} {ele}'].max()
        stats.loc[ele, 'Media'] = dati[f'Task {num_task} {ele}'].mean()
        stats.loc[ele, 'Std'] = dati[f'Task {num_task} {ele}'].std()
        stats.loc[ele, 'Mediana'] = dati[f'Task {num_task} {ele}'].median()
        stats.loc[ele, 'Intervallo (0.95)'] = np.around(st.t.interval(0.95, len(dati[f'Task {num_task} {ele}'])-1, loc = np.mean(dati[f'Task {num_task} {ele}']), scale = st.sem(dati[f'Task {num_task} {ele}'])), 3)
        stats.loc[ele, 'Error'] = '+/- ' + str(np.around(stats.loc[ele, 'Intervallo (0.95)'][1] - stats.loc[ele, 'Media'], 3))
    return stats

print('Task e tempi di esecuzione (Efficienza):\n')
print('Task 1')
display(task_boxplot(1))
print('\n\n______________________________________________________________________________\n')
print('Task 2')
display(task_boxplot(2))
print('\n\n______________________________________________________________________________\n')
print('Task 3')
display(task_boxplot(3))



def get_help(text):
    h = text.split('-')[1]
    if h == 'C':
        # completato
        h = 1
    elif h == 'A':
        # aiutato
        h = 2
    elif h == 'F':
        # fail
        h = 3
    return h

df_help = df.map(get_help)
df_help


myColors = (palette_c[1], palette_c[2], palette_c[4])

sns.set(font_scale=1.2)
cmap = LinearSegmentedColormap.from_list('Custom', myColors, len(myColors))
fig, ax = plt.subplots(figsize = (15, 11)) 
ax = sns.heatmap(df_help, linewidths=.5, fmt='g', cmap=cmap, ax = ax)
colorbar = ax.collections[0].colorbar
colorbar.set_ticks([-0.667, 0, 0.667])
colorbar.set_ticklabels(['Completato', 'Completato con aiuto', 'Non completato'])



def barplot_task(num_task, df_help):

    # count the number of complete (1), help (2) and uncomplete(3) for each app
    count_music = {}
    count_tidal = {}
    width = 0.45
    tot_users = len(df_help)

    # number of users that completed the task n 1 of apple music
    # number of users that got help in task n 1 of apple music
    # number of users that didn't complete the task n 1 of apple music
    count_music['comp'] = len(df_help[df_help[f'Task {num_task} {app[0]}'] == 1])
    count_music['help'] = len(df_help[df_help[f'Task {num_task} {app[0]}'] == 2])
    count_music['uncomp'] = len(df_help[df_help[f'Task {num_task} {app[0]}'] == 3])

    count_tidal['comp'] = len(df_help[df_help[f'Task {num_task} {app[1]}'] == 1])
    count_tidal['help'] = len(df_help[df_help[f'Task {num_task} {app[1]}'] == 2])
    count_tidal['uncomp'] = len(df_help[df_help[f'Task {num_task} {app[1]}'] == 3])

    fig = plt.figure(figsize = (4, 5), dpi = 100)
    ax = fig.add_axes([0, 0, 1, 1])

    # Apple Music completed, helped, uncompleted
    percent = int(count_music['comp']/tot_users*100)
    if percent != 0:
        ax.bar(1, count_music['comp'], width, label = f'Task {num_task} completato ({app[0]})', color = palette_c[1])
        plt.annotate(f'{percent}%', (1, count_music['comp']/2), ha='center', va='center', size = 14)

    tot_helped = tot_users - count_music['comp'] - count_music['uncomp']
    start_base = count_music['comp']
    percent = int(tot_helped/tot_users*100)
    if percent != 0:
        ax.bar(1, tot_helped, width, bottom = start_base, label = f'Task {num_task} completato con aiuto ({app[0]})', color = palette_c[2])
        plt.annotate(f'{percent}%', (1, tot_helped/2 + start_base), ha='center', va='center', size = 14)

    tot_uncomp = tot_users - count_music['comp'] - count_music['help']
    start_base = count_music['comp'] + tot_helped
    percent = int(tot_uncomp/tot_users*100)
    if percent != 0:
        ax.bar(1, tot_uncomp, width, bottom = start_base, label = f'Task {num_task} non completato ({app[0]})', color = palette_c[3])
        plt.annotate(f'{percent}%', (1, tot_uncomp/2 + start_base), ha='center', va='center', size = 14)


    # Tidal completed, helped, uncompleted
    percent = int(count_tidal['comp']/tot_users*100)
    if percent != 0:
        ax.bar(2, count_tidal['comp'], width, label = f'Task {num_task} completato ({app[1]})', color = palette_c[1])
        plt.annotate(f'{percent}%', (2, count_tidal['comp']/2), ha='center', va='center', size = 14)

    tot_helped = tot_users - count_tidal['comp'] - count_tidal['uncomp']
    start_base = count_tidal['comp']
    percent = int(tot_helped/tot_users*100)
    if percent != 0:
        ax.bar(2, tot_helped, width, bottom = start_base, label = f'Task {num_task} completato con aiuto ({app[1]})', color = palette_c[2])
        plt.annotate(f'{percent}%', (2, tot_helped/2 + start_base), ha='center', va='center', size = 14)

    tot_uncomp = tot_users - count_tidal['comp'] - count_tidal['help']
    start_base = count_tidal['comp'] + tot_helped
    percent = int(tot_uncomp/tot_users*100)
    if percent != 0:
        ax.bar(2, tot_uncomp, width, bottom = start_base, label = f'Task {num_task} non completato ({app[1]})', color = palette_c[3])
        plt.annotate(f'{percent}%', (2, tot_uncomp/2 + start_base), ha='center', va='center', size = 14)

    plt.ylabel("Users", size=14)
    plt.xticks([1, 2], app)
    custom_lines = [Patch(facecolor=palette_c[1]),
                    Patch(facecolor=palette_c[2]),
                    Patch(facecolor=palette_c[3])]
    plt.legend(custom_lines, [f'Task {num_task} completato', f'Task {num_task} completato con aiuto', f'Task {num_task} non completato'], bbox_to_anchor=(1.05, .6))
    plt.show()
    

barplot_task(1, df_help)
barplot_task(2, df_help)
barplot_task(3, df_help)





def perform_fisher(num_task, df_help):
    count_music = {}
    count_tidal = {}

    count_music['comp'] = len(df_help[df_help[f'Task {num_task} {app[0]}'] == 1])
    count_music['uncomp'] = len(df_help[df_help[f'Task {num_task} {app[0]}'] == 3])
    count_music['uncomp'] += len(df_help[df_help[f'Task {num_task} {app[0]}'] == 2])

    count_tidal['comp'] = len(df_help[df_help[f'Task {num_task} {app[1]}'] == 1])
    count_tidal['uncomp'] = len(df_help[df_help[f'Task {num_task} {app[1]}'] == 3])
    count_tidal['uncomp'] += len(df_help[df_help[f'Task {num_task} {app[1]}'] == 2])

    matrix = [[count_music['comp'], count_tidal['comp']], [count_music['uncomp'], count_tidal['uncomp']]]
    oddsratio, pvalue = stats.fisher_exact(matrix, alternative = 'two-sided')
    return pvalue


alpha = 0.05
print('Testing the first task...')
pvalue = perform_fisher(1, df_help)
print(f'Result pvalue: {pvalue}')
if pvalue > alpha:
    print(f'p value is greater than alpha ({alpha}), fail to reject H0')
    print('The result is statistically nonsignificant')
else:
    print(f'P value is minor than alpha ({alpha}), we can reject H0')
    print('Basically the two systems DO NOT share the same distribution, there are differences!')

print('\n\n')

# testing the second task
print('Testing the second task...')
pvalue = perform_fisher(2, df_help)
print(f'Result pvalue: {pvalue}')
if pvalue > alpha:
    print(f'p value is greater than alpha ({alpha}), fail to reject H0')
    print('The result is statistically nonsignificant')
else:
    print(f'P value is minor than alpha ({alpha}), we can reject H0')
    print('Basically the two systems DO NOT share the same distribution, there are differences!')

print('\n\n')

# testing the third task
print('Testing the third task...')
pvalue = perform_fisher(3, df_help)
print(f'Result pvalue: {pvalue}')
if pvalue > alpha:
    print(f'p value is greater than alpha ({alpha}), fail to reject H0')
    print('The result is statistically nonsignificant')
else:
    print(f'P value is minor than alpha ({alpha}), we can reject H0')
    print('Basically the two systems DO NOT share the same distribution, there are differences!')



# performing t_test on user time (using related one becouse we have related samples)

alpha = 0.05

print('Task 1')
statistic, pvalue = stats.ttest_rel(df_time[f'Task 1 {app[0]}'], df_time[f'Task 1 {app[1]}'])
print(f'Result pvalue: {pvalue}')
if pvalue > alpha:
    print(f'p value is greater than alpha ({alpha}), fail to reject H0')
    print('The result is statistically nonsignificant')
else:
    print(f'P value is minor than alpha ({alpha}), we can reject H0')
    print('Basically the two systems DO NOT share the same distribution, there are differences!')

print('\n\n')

print('Task 2')
statistic, pvalue = stats.ttest_rel(df_time[f'Task 2 {app[0]}'], df_time[f'Task 2 {app[1]}'])
print(f'Result pvalue: {pvalue}')
if pvalue > alpha:
    print(f'p value is greater than alpha ({alpha}), fail to reject H0')
    print('The result is statistically nonsignificant')
else:
    print(f'P value is minor than alpha ({alpha}), we can reject H0')
    print('Basically the two systems DO NOT share the same distribution, there are differences!')

print('\n\n')

print('Task 3')
statistic, pvalue = stats.ttest_rel(df_time[f'Task 3 {app[0]}'], df_time[f'Task 3 {app[1]}'])
print(f'Result pvalue: {pvalue}')
if pvalue > alpha:
    print(f'p value is greater than alpha ({alpha}), fail to reject H0')
    print('The result is statistically nonsignificant')
else:
    print(f'P value is minor than alpha ({alpha}), we can reject H0')
    print('Basically the two systems DO NOT share the same distribution, there are differences!')












# Now using df_user to make stats on gender, age and education
df_user


# Using sex instaed of gende
labels = ['Donna', 'Uomo']
sizes = df_user['Sesso'].value_counts()

# trova il pezzo di torta più grande e lo risalta
explode = np.zeros(len(sizes))
explode[np.where(sizes.index == sizes.idxmax())[0][0]] = 0.07
fig, ax = plt.subplots(figsize = (7, 7), dpi = 100)

ax.pie(sizes, explode=explode, labels = labels, autopct='%1.1f%%', shadow = True, startangle = 90, colors = palette_c[1:3])
plt.show()



# job stats
labels = df_user['Lavoro'].value_counts().index
sizes = df_user['Lavoro'].value_counts()

# trova il pezzo di torta più grande e lo risalta
explode = np.zeros(len(sizes))
explode[np.where(sizes.index == sizes.idxmax())[0][0]] = 0.07

fig, ax = plt.subplots(figsize = (7, 7), dpi = 100)
ax.pie(sizes, explode=explode, labels = labels, autopct='%1.1f%%', shadow = True, startangle = 90, colors = palette_c)
plt.show()


# education stats
labels = df_user['Istruzione'].value_counts().index
sizes = df_user['Istruzione'].value_counts()

# trova il pezzo di torta più grande e lo risalta
explode = np.zeros(len(sizes))
explode[np.where(sizes.index == sizes.idxmax())[0][0]] = 0.07

fig, ax = plt.subplots(figsize = (7, 7), dpi = 100)
ax.pie(sizes, explode = explode, labels = labels, autopct='%1.1f%%', shadow = True, startangle = 90, colors = palette_c)
plt.show()


# age stats
age_class = [10, 18, 30, 45, 60, 110]
labels = ['10-18', '19-30', '31-45', '46-60', '60+']
df_age = pd.DataFrame({'age': df_user['Eta'], 'group': pd.cut(df_user['Eta'], bins = age_class, labels = labels, right=False)})

sizes = df_age['group'].value_counts()
sizes = sizes[sizes != 0] # drop 0 value
labels = list(sizes.index)

# trova il pezzo di torta più grande e lo risalta
explode = np.zeros(len(sizes))
explode[np.where(sizes.index == sizes.idxmax())[0][0]] = 0.07

fig, ax = plt.subplots(figsize = (7, 7), dpi = 100)
ax.pie(sizes, explode = explode, labels = labels, autopct='%1.0f%%', shadow = True, startangle = 90, colors = palette_c)
plt.show()





## inizio statistiche su questionario

# df_q = pd.read_csv('./Questionario valutazione euristica.csv')
# df_q.columns
# df_q = df_q.drop(['Informazioni cronologiche', 'Nome utente'], axis = 1)
# 
# df_qq = pd.DataFrame()
# for ele in df_q.columns:
#     row = [ele]
#     row.extend([int(asd[0]) for asd in df_q[ele].tolist()])
#     df_qq = df_qq.append(pd.DataFrame([row]), ignore_index=True)
# df_qq['Euristiche'] = ''
# df_qq['Id valutatori'] = ''
# df_qq.columns = ['Problema', 'expert1', 'expert2', 'expert3', 'expert4', 'expert5', 'Euristiche', 'Id valutatori']
# df_qq


# mean and sd

#df_qq['mean'] = df_qq.loc
# df_qq['mean'] = df_qq.loc[:, 'expert1':'expert5'].mean(axis=1)
# df_qq['std'] = df_qq.loc[:, 'expert1':'expert5'].std(axis=1)
# df_qq['median'] = df_qq.loc[:, 'expert1':'expert5'].median(axis=1)
# df_qq.to_csv('./Risultato questionario euristica.csv')
# df_qq


# a = pd.read_csv('./Euristiche tidal.csv', sep = ';')
# a['ID euristiche violate']


# eu = pd.read_csv('./eu.csv')
# idd = pd.read_csv('./ID.csv')
# # df_qq.iloc[23:,:]['Euristiche'] = b['ID euristiche violate']
# # display(eu)
# # display(idd)
# df_qq['Euristiche'] = eu['hello']
# df_qq['Id valutatori'] = idd['hi']
# df_qq.to_csv('./Risultato questionario euristica.csv')


# Splitting into two df, one for tidal and the oth for apple music 

# quest = pd.read_csv('./Risultato questionario euristica.csv')
# quest = quest.drop(['Unnamed: 0'], axis = 1)
# # quest.nlargest(4, 'mean')
# quest_0 = quest.iloc[:23, :]
# quest_1 = quest.iloc[23:, :]
# quest_0.to_csv('./Quest eu Tidal.csv')
# quest_1.to_csv('./Quest eu Apple Music.csv')


# matrice valutatori
def matrice_valutatori(app_name):
    quest1 = pd.read_csv('./Quest eu ' + app_name + '.csv', index_col=0)

    # creo un df vuoto per la matrice valutatori
    matrix1 = pd.DataFrame(columns = quest1.index.tolist(), index = ['EU1', 'EU2', 'ED1', 'ED2', 'ED3'])

    # costruisco la matrice valutatori
    for index, row in quest1.iterrows():
        valutatori = row['Id valutatori'].split('-')
        for val in valutatori:
            matrix1.loc[val, index] = 1

    matrix1 = matrix1.fillna(0)
    display(matrix1)

    # ordino la matrice valutatori
    idx = matrix1.sum(axis=1).sort_values(ascending=False).index
    print('----------------------------------------------')
    print(f'Top valutatori: {", ".join(idx.to_list())}')
    print('----------------------------------------------')
    ordered_matrix1 = matrix1.loc[idx]
    print('Matrice valutatori ordinata:')
    display(ordered_matrix1)
    return ordered_matrix1

print(f'______________{app[0].upper()}:')
matrix_applemusic = matrice_valutatori(app[0])
print('\n\n\n\n')
print(f'______________{app[1].upper()}:')
matrix_tidal = matrice_valutatori(app[1])



# grafico matrice valutatori apple music
print('Apple music')
myColors = (palette_c[1], palette_c[2], palette_c[4])

sns.set(font_scale=1.2)
cmap = LinearSegmentedColormap.from_list('Custom', myColors, len(myColors))
fig, ax = plt.subplots(figsize = (20, 5)) 
ax = sns.heatmap(matrix_applemusic, linewidths=.5, fmt='g', cmap=cmap, ax = ax, cbar = False, square = True)


# grafico matrice valutatori apple music
print('Tidal')
myColors = (palette_c[1], palette_c[2], palette_c[4])

sns.set(font_scale=1.2)
cmap = LinearSegmentedColormap.from_list('Custom', myColors, len(myColors))
fig, ax = plt.subplots(figsize = (20, 5)) 
ax = sns.heatmap(matrix_tidal, linewidths=.5, fmt='g', cmap=cmap, ax = ax, cbar = False, square = True)


# distribuzione euristiche

def plot_eu_distribution(app_name):
    quest1 = pd.read_csv('./Quest eu ' + app_name + '.csv', index_col=0)
    list_eu = []
    for eu in quest1['Euristiche']:
        list_eu.extend(eu.split('-'))

    from collections import Counter, OrderedDict

    c = Counter(list_eu)
    # ordered by value
    c_ord = dict(sorted(c.items(), key=lambda item: item[1], reverse = True))

    fig = plt.figure(figsize = (7, 4), dpi = 100)
    ax = fig.add_axes([0, 0, 1, 1])
    plt.bar(c_ord.keys(), c_ord.values(), color = palette_c[2])
    plt.show()

print(f'{app[0]}')
plot_eu_distribution(app[0])
print(f'{app[1]}')
plot_eu_distribution(app[1])


# prioritizzazione euristiche

def prioritizzazione_eu(app_name):
    quest1 = pd.read_csv('./Quest eu ' + app_name + '.csv', index_col=0)
    top_problems = []
    no_top_problems = []
    for expert in quest1.columns[1:6]:
        # print(f'Expert: {expert}')
        # top 6 problems (20% di 30 euristiche)
        tmp = quest1.sort_values(expert, ascending = False)[:6].index.tolist()
        top_problems.extend(tmp)
        # the rest:
        tmp = quest1.sort_values(expert, ascending = False)[6:].index.tolist()
        no_top_problems.extend(tmp)

    # count number of time a problem appears on top or not
    c_top = dict(Counter(top_problems))
    c_no_top = dict(Counter(no_top_problems))

    df_fascia = pd.DataFrame(0, index = quest1.index, columns = ['volte prima fascia', 'volte seconda fascia', 'fascia finale'])
    for ele in c_top:
        df_fascia.loc[ele]['volte prima fascia'] += c_top[ele]

    for ele in c_no_top:
        df_fascia.loc[ele]['volte seconda fascia'] += c_no_top[ele]

    df_fascia['p-value'] = float(0.0)
    for index, _ in df_fascia.iterrows():
        p_value = stats.binom_test(df_fascia.at[index, 'volte prima fascia'], n = 5, p = 0.5)
        df_fascia.at[index, 'p-value'] = p_value
        if df_fascia.at[index, 'volte prima fascia'] > df_fascia.at[index, 'volte seconda fascia']:
            # -1 indica che il problema è on top
            df_fascia.at[index, 'fascia finale'] = -1
        else:
            # -2 indica che il problema è secondario
            df_fascia.at[index, 'fascia finale'] = -2

    

    return df_fascia

print(f'{app[0]}:')
display(prioritizzazione_eu(app[0]).sort_values('fascia finale', ascending = False))
print('\n______________________________\n')
print(f'{app[1]}:')
display(prioritizzazione_eu(app[1]).sort_values('fascia finale', ascending = False))


quest1 = pd.read_csv('./Quest eu ' + app[0] + '.csv', index_col=0)
quest1


quest2 = pd.read_csv('./Quest eu ' + app[1] + '.csv', index_col=0)
quest2





# stats on the fly su valutatori usabilità e dominio

# Using sex instaed of gende
labels = ['Donna', 'Uomo']
# display(df_user['Sesso'])
tmp_dict = {'expert1': ['M'], 'expert2': ['M'], 'expert3': ['M'], 'expert4': ['M'], 'expert5': ['M']}
tmp_df_eu = pd.DataFrame.from_dict(tmp_dict).T
tmp_df_eu.columns = ['Sesso']
display(tmp_df_eu)
sizes = tmp_df_eu['Sesso'].value_counts()
if len(sizes) == 1:
    labels = ['Uomo']

# trova il pezzo di torta più grande e lo risalta
explode = np.zeros(len(sizes))
explode[np.where(sizes.index == sizes.idxmax())[0][0]] = 0.07
fig, ax = plt.subplots(figsize = (7, 7), dpi = 100)

ax.pie(sizes, explode = explode, labels = labels, autopct='%1.1f%%', shadow = True, startangle = 90, colors = palette_c[1:3])
plt.show()



# job stats
tmp_df_eu['Lavoro'] = ['Studente', 'Lavoratore', 'Studente', 'Studente', 'Lavoratore']
display(tmp_df_eu)
labels = tmp_df_eu['Lavoro'].value_counts().index
sizes = tmp_df_eu['Lavoro'].value_counts()

# trova il pezzo di torta più grande e lo risalta
explode = np.zeros(len(sizes))
explode[np.where(sizes.index == sizes.idxmax())[0][0]] = 0.07

fig, ax = plt.subplots(figsize = (7, 7), dpi = 100)
ax.pie(sizes, explode=explode, labels = labels, autopct='%1.1f%%', shadow = True, startangle = 90, colors = palette_c)
plt.show()





# education stats
tmp_df_eu['Istruzione'] = ['Diploma', 'Laurea Triennale', 'Laurea Triennale', 'Diploma', 'Laurea Triennale']
labels = tmp_df_eu['Istruzione'].value_counts().index
sizes = tmp_df_eu['Istruzione'].value_counts()

# trova il pezzo di torta più grande e lo risalta
explode = np.zeros(len(sizes))
explode[np.where(sizes.index == sizes.idxmax())[0][0]] = 0.07

fig, ax = plt.subplots(figsize = (7, 7), dpi = 100)
ax.pie(sizes, explode = explode, labels = labels, autopct='%1.1f%%', shadow = True, startangle = 90, colors = palette_c)
plt.show()





# age stats
age_class = [10, 18, 30, 45, 60, 110]
labels = ['10-18', '19-30', '31-45', '46-60', '60+']
tmp_df_eu['Eta'] = [21, 27, 23, 26, 31]
df_age = pd.DataFrame({'age': tmp_df_eu['Eta'], 'group': pd.cut(tmp_df_eu['Eta'], bins = age_class, labels = labels, right=False)})

sizes = df_age['group'].value_counts()
sizes = sizes[sizes != 0] # drop 0 value
labels = list(sizes.index)

# trova il pezzo di torta più grande e lo risalta
explode = np.zeros(len(sizes))
explode[np.where(sizes.index == sizes.idxmax())[0][0]] = 0.07

fig, ax = plt.subplots(figsize = (7, 7), dpi = 100)
ax.pie(sizes, explode = explode, labels = labels, autopct='%1.0f%%', shadow = True, startangle = 90, colors = palette_c)
plt.show()



